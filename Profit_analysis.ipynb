{
 "cells": [
  {
   "cell_type": "code",
   "execution_count": null,
   "metadata": {},
   "outputs": [],
   "source": [
    "\n",
    "# Node class \n",
    "class Node: \n",
    "   \n",
    "    # Function to initialise the node object \n",
    "    def __init__(self, data): \n",
    "        self.data = data  # Assign data \n",
    "        self.next = None  # Initialize next as null \n",
    "   \n",
    "   \n",
    "# Linked List class contains a Node object \n",
    "class LinkedList: \n",
    "   \n",
    "    # Function to initialize head \n",
    "    def __init__(self): \n",
    "        self.head = None\n",
    " \n",
    "    # Function to insert a new node at the beginning  \n",
    "    def push(self, new_data):  \n",
    "        new_node = Node(new_data)  \n",
    "        new_node.next = self.head  \n",
    "        self.head = new_node\n",
    " \n",
    "    # Print the linked list\n",
    "    def printList(self):\n",
    "        node = self.head\n",
    "        while node:\n",
    "            print(str(node.data) + \"->\", end=\"\")\n",
    "            node = node.next\n",
    "        print(\"NULL\")\n",
    " \n",
    "    # Function that returns middle.\n",
    "    def printMiddle(self):\n",
    "        # Initialize two pointers, one will go one step a time (slow), another two at a time (fast)\n",
    "        slow = self.head\n",
    "        fast = self.head\n",
    " \n",
    "        # Iterate till fast's next is null (fast reaches end)\n",
    "        while fast and fast.next:\n",
    "            slow = slow.next\n",
    "            fast = fast.next.next\n",
    "         \n",
    "        # return the slow's data, which would be the middle element.\n",
    "        print(\"The middle element is \", slow.data)\n",
    " \n",
    "# Code execution starts here \n",
    "if __name__=='__main__': \n",
    "   \n",
    "    # Start with the empty list \n",
    "    llist = LinkedList() \n",
    "   \n",
    "    for i in range(5, 0, -1):\n",
    "        llist.push(i)\n",
    "        llist.printList()\n",
    "        llist.printMiddle()\n",
    " \n",
    " # Code is contributed by Kumar Shivam (kshivi99)\n"
   ]
  },
  {
   "cell_type": "code",
   "execution_count": null,
   "metadata": {},
   "outputs": [],
   "source": [
    "llist = LinkedList()"
   ]
  },
  {
   "cell_type": "code",
   "execution_count": null,
   "metadata": {},
   "outputs": [],
   "source": [
    "class ListNode:\n",
    "    def __init__(self, val = 0, next= None):\n",
    "        self.val = val\n",
    "        self.next = next\n",
    "class Solution:\n",
    "    def addTwoNumbers(self, l1: ListNode, l2: ListNode) -> ListNode:\n",
    "        \"\"\"\n",
    "        :type l1: ListNode\n",
    "        :type l2: ListNode\n",
    "        :rtype: ListNode\n",
    "        \"\"\"\n",
    "        result = ListNode(0)\n",
    "        result_tail = result\n",
    "        carry = 0\n",
    "                \n",
    "        while l1 or l2 or carry:            \n",
    "            val1  = (l1.val if l1 else 0)\n",
    "            val2  = (l2.val if l2 else 0)\n",
    "            carry, out = divmod(val1+val2 + carry, 10)    \n",
    "                      \n",
    "            result_tail.next = ListNode(out)\n",
    "            result_tail = result_tail.next                      \n",
    "            \n",
    "            l1 = (l1.next if l1 else None)\n",
    "            l2 = (l2.next if l2 else None)\n",
    "               \n",
    "        return result.next"
   ]
  },
  {
   "cell_type": "code",
   "execution_count": null,
   "metadata": {},
   "outputs": [],
   "source": [
    "class Node:\n",
    "    \n",
    "    def __init__(self, dataval=None):\n",
    "        self.dataval = dataval\n",
    "        self.nextval = None\n",
    "        \n",
    "class SLinkedList:\n",
    "    \n",
    "    def __init__(self):\n",
    "        self.headval = None\n",
    "        \n",
    "    def listprint(self):\n",
    "        printval = self.headval\n",
    "        while printval is not None:\n",
    "            print(printval.dataval)\n",
    "            printval = printval.nextval\n",
    "            \n",
    "    def AtBegining(self, newdata):\n",
    "        NewNode = Node(newdata)\n",
    "        NewNode.nextval = self.headval\n",
    "        self.headval = NewNode\n",
    "        \n",
    "    def Inbetween(self,middle_node,newdata):\n",
    "        if middle_node is None:\n",
    "            print('middle node is empty')\n",
    "        NewNode = Node(newdata)\n",
    "        NewNode.nextval = middle_node.nextval\n",
    "        \n",
    "    def AtEnd(self, newdata):\n",
    "        NewNode = Node(newdata)\n",
    "        if self.headval is None:\n",
    "            self.headval = NewNode\n",
    "            return\n",
    "        laste = self.headval\n",
    "        while laste.nextval is not None:\n",
    "            laste = laste.nextval\n",
    "        laste.nextval=NewNode\n",
    "\n",
    "        \n",
    "list1 = SLinkedList()\n",
    "list1.headval = Node('Mon')"
   ]
  },
  {
   "cell_type": "code",
   "execution_count": null,
   "metadata": {},
   "outputs": [],
   "source": [
    "e2 = Node('Tue')\n",
    "e3 = Node('Wed')\n",
    "e4 = Node('Fri')\n",
    "list1.headval.nextval = e2\n",
    "e2.nextval = e3\n",
    "e3.nextval = e4"
   ]
  },
  {
   "cell_type": "code",
   "execution_count": null,
   "metadata": {},
   "outputs": [],
   "source": [
    "def isPrime(n):\n",
    "    if n <= 1:\n",
    "        return False\n",
    "    i = 2\n",
    "    while i**2 <= n:\n",
    "#         print(i)\n",
    "        if n % i ==0:\n",
    "            return False\n",
    "        i += 1\n",
    "    return True"
   ]
  },
  {
   "cell_type": "code",
   "execution_count": null,
   "metadata": {},
   "outputs": [],
   "source": [
    "s = []\n",
    "for i in range(10):\n",
    "#     if i == 2:\n",
    "#         s.append(2)\n",
    "    if isPrime(i):\n",
    "        s.append(i)\n",
    "print(s)\n",
    "    "
   ]
  },
  {
   "cell_type": "code",
   "execution_count": null,
   "metadata": {},
   "outputs": [],
   "source": [
    "isPrime(5)"
   ]
  },
  {
   "cell_type": "code",
   "execution_count": null,
   "metadata": {},
   "outputs": [],
   "source": [
    "isPrime(7)"
   ]
  },
  {
   "cell_type": "code",
   "execution_count": null,
   "metadata": {},
   "outputs": [],
   "source": [
    "a= [1,2,3,4,5,6,7,8,9,10]\n",
    "a[4:10:2]"
   ]
  },
  {
   "cell_type": "code",
   "execution_count": null,
   "metadata": {},
   "outputs": [],
   "source": [
    "n = 124\n",
    "s = 0\n",
    "for i in str(n):\n",
    "    if n % int(i) ==0:\n",
    "        s+=1\n",
    "print(s)\n",
    "    "
   ]
  },
  {
   "cell_type": "code",
   "execution_count": null,
   "metadata": {},
   "outputs": [],
   "source": [
    "str(124)"
   ]
  },
  {
   "cell_type": "code",
   "execution_count": null,
   "metadata": {},
   "outputs": [],
   "source": [
    "def countway(n):\n",
    "    total = 0\n",
    "    if n < 0:\n",
    "        return 0\n",
    "    elif n == 0 or n == 1:\n",
    "        return 1\n",
    "    else:\n",
    "        total += countway(n-1) + countway(n-2) + countway(n-3)\n",
    "    return total\n",
    "print(countway(2))\n",
    "    "
   ]
  },
  {
   "cell_type": "code",
   "execution_count": null,
   "metadata": {},
   "outputs": [],
   "source": [
    "\n",
    "def triple_hop(x):\n",
    "    if x < 0:\n",
    "        return 0\n",
    "    if x == 0:\n",
    "        return 1\n",
    "    if x == 1:\n",
    "        return 1\n",
    "    return triple_hop(x - 1) + triple_hop(x - 2) + triple_hop(x - 3)"
   ]
  },
  {
   "cell_type": "code",
   "execution_count": null,
   "metadata": {},
   "outputs": [],
   "source": [
    "triple_hop(0)"
   ]
  },
  {
   "cell_type": "code",
   "execution_count": null,
   "metadata": {},
   "outputs": [],
   "source": [
    "def countway(n):\n",
    "    total = 0\n",
    "    if n < 0:\n",
    "        return 0\n",
    "    elif (n==0 or n ==1):\n",
    "        return 1\n",
    "    else:\n",
    "        total += countway(n-2) + countway(n-1) + countway(n-3)\n",
    "    return total\n",
    "countway(3)"
   ]
  },
  {
   "cell_type": "code",
   "execution_count": null,
   "metadata": {},
   "outputs": [],
   "source": [
    "def findStep( n) :\n",
    "    if (n == 1 or n == 0) :\n",
    "        return 1\n",
    "    elif (n == 2) :\n",
    "        return 2\n",
    "    elif n<0:\n",
    "        return 0\n",
    "    else :\n",
    "        return findStep(n - 3) + findStep(n - 2) + findStep(n - 1) \n",
    " \n",
    " \n",
    "# Driver code\n",
    "n = 4"
   ]
  },
  {
   "cell_type": "code",
   "execution_count": null,
   "metadata": {},
   "outputs": [],
   "source": [
    "findStep(4)"
   ]
  },
  {
   "cell_type": "code",
   "execution_count": null,
   "metadata": {},
   "outputs": [],
   "source": [
    "def subArraySum(arr, n, s): \n",
    "    #Your code here\n",
    "    for i in range(n):\n",
    "        sub_arr = arr[:i]\n",
    "        total = 0\n",
    "        for j in range(len(sub_arr)):\n",
    "            total += sub_arr[j]\n",
    "            if total == s:\n",
    "                return sub_arr\n"
   ]
  },
  {
   "cell_type": "code",
   "execution_count": null,
   "metadata": {},
   "outputs": [],
   "source": [
    "import time\n",
    "start_time = time.time()\n",
    "subArraySum([1,2,3,4,5,6,7,8,9], 4, 6)\n",
    "print(\"--- %s seconds ---\" % (time.time() - start_time))"
   ]
  },
  {
   "cell_type": "code",
   "execution_count": null,
   "metadata": {},
   "outputs": [],
   "source": [
    "## sum of the subarrays\n",
    "def subArraySum2(arr, n, s): \n",
    "    total = 0\n",
    "    sub_array = []\n",
    "    for num in range(n):\n",
    "        total = total + sum(sub_array)\n",
    "        if total == s:\n",
    "            return sub_array\n",
    "        elif total > s:\n",
    "            sub_array.pop(0)\n",
    "        else:\n",
    "            sub_array.append(num)"
   ]
  },
  {
   "cell_type": "code",
   "execution_count": null,
   "metadata": {},
   "outputs": [],
   "source": [
    "import time\n",
    "start_time = time.time()\n",
    "subArraySum2([1,2,3,4,5,6,7,8,9], 4, 6)\n",
    "print(\"--- %s seconds ---\" % (time.time() - start_time))"
   ]
  },
  {
   "cell_type": "code",
   "execution_count": null,
   "metadata": {},
   "outputs": [],
   "source": [
    "def countTriplet(arr):\n",
    "    count = 0\n",
    "    n = len(arr)\n",
    "    for i in range(n):\n",
    "        total = 0 \n",
    "        for num in arr[i:]:\n",
    "            if arr[i] != num:\n",
    "                total = arr[i] + num\n",
    "                if total in arr:\n",
    "                    count += 1\n",
    "                    print(total, arr[i], num)\n",
    "    return count"
   ]
  },
  {
   "cell_type": "code",
   "execution_count": null,
   "metadata": {},
   "outputs": [],
   "source": [
    "countTriplet([1,3,5,2])"
   ]
  },
  {
   "cell_type": "code",
   "execution_count": null,
   "metadata": {},
   "outputs": [],
   "source": [
    "a = [1,5,3,4]"
   ]
  },
  {
   "cell_type": "code",
   "execution_count": null,
   "metadata": {},
   "outputs": [],
   "source": [
    "a.sort()"
   ]
  },
  {
   "cell_type": "code",
   "execution_count": null,
   "metadata": {},
   "outputs": [],
   "source": [
    "a"
   ]
  },
  {
   "cell_type": "code",
   "execution_count": null,
   "metadata": {},
   "outputs": [],
   "source": [
    "import sys"
   ]
  },
  {
   "cell_type": "code",
   "execution_count": null,
   "metadata": {},
   "outputs": [],
   "source": [
    "-sys.maxsize"
   ]
  },
  {
   "cell_type": "code",
   "execution_count": null,
   "metadata": {},
   "outputs": [],
   "source": [
    "def maxsum(arr):\n",
    "    tempMax = arr[0]\n",
    "    currentMax = tempMax\n",
    "    for i in range(len(arr)):\n",
    "        currentMax = max(arr[i], currentMax + arr[i])\n",
    "        tempMax = max(tempMax, currentMax)\n",
    "    return tempMax"
   ]
  },
  {
   "cell_type": "code",
   "execution_count": null,
   "metadata": {},
   "outputs": [],
   "source": [
    "maxsum([-1,-1,-1])"
   ]
  },
  {
   "cell_type": "code",
   "execution_count": null,
   "metadata": {},
   "outputs": [],
   "source": [
    "1+2+3+4"
   ]
  },
  {
   "cell_type": "code",
   "execution_count": null,
   "metadata": {},
   "outputs": [],
   "source": [
    "n = 4\n",
    "n*(n+1)*0.5"
   ]
  },
  {
   "cell_type": "code",
   "execution_count": null,
   "metadata": {},
   "outputs": [],
   "source": [
    "a = [1]\n",
    "for i in range(0, len(a)):\n",
    "    n = len(a)\n",
    "    sum_n = n*(n+1)*0.5\n",
    "    print(s, sum_n)\n",
    "    if s != sum_n:\n",
    "        print(i+1)"
   ]
  },
  {
   "cell_type": "code",
   "execution_count": null,
   "metadata": {},
   "outputs": [],
   "source": [
    "a[:1]"
   ]
  },
  {
   "cell_type": "code",
   "execution_count": null,
   "metadata": {},
   "outputs": [],
   "source": [
    "a = [1,4,3]\n",
    "b = [4,5,7]\n",
    "c = [a, b]"
   ]
  },
  {
   "cell_type": "code",
   "execution_count": null,
   "metadata": {},
   "outputs": [],
   "source": [
    "c"
   ]
  },
  {
   "cell_type": "code",
   "execution_count": null,
   "metadata": {},
   "outputs": [],
   "source": [
    "a.sort()"
   ]
  },
  {
   "cell_type": "code",
   "execution_count": null,
   "metadata": {},
   "outputs": [],
   "source": [
    "def merge(arr1,arr2,n,m):\n",
    "    for i in range(n):\n",
    "        arr2.append(arr1[i])\n",
    "    arr2.sort()\n",
    "    return arr2"
   ]
  },
  {
   "cell_type": "code",
   "execution_count": null,
   "metadata": {},
   "outputs": [],
   "source": [
    "print(merge([1,4,5,8], [4,7,9], 4, 3))"
   ]
  },
  {
   "cell_type": "code",
   "execution_count": null,
   "metadata": {},
   "outputs": [],
   "source": [
    "median(a+b)"
   ]
  },
  {
   "cell_type": "code",
   "execution_count": null,
   "metadata": {},
   "outputs": [],
   "source": [
    "7 % 2\n"
   ]
  },
  {
   "cell_type": "code",
   "execution_count": null,
   "metadata": {},
   "outputs": [],
   "source": [
    "7//2"
   ]
  },
  {
   "cell_type": "code",
   "execution_count": null,
   "metadata": {},
   "outputs": [],
   "source": [
    "y = [1,3,3,6,4,7,8,9]"
   ]
  },
  {
   "cell_type": "code",
   "execution_count": null,
   "metadata": {},
   "outputs": [],
   "source": [
    "nums1 = [1,3,3]; nums2 = [6,4,7,8,9]\n",
    "arr = nums1 + nums2\n",
    "arr.sort()\n",
    "print(arr)\n",
    "n = len(arr)\n",
    "if n % 2 != 0:\n",
    "    median = sorted_arr[n//2]\n",
    "else:\n",
    "    median = (sorted_arr[n//2 - 1] + sorted_arr[n//2])/2\n"
   ]
  },
  {
   "cell_type": "code",
   "execution_count": null,
   "metadata": {},
   "outputs": [],
   "source": [
    "arr = [1.01, 1.991, 1.32, 1.4]\n",
    "arr.sort()\n",
    "res = []\n",
    "left = i\n",
    "right = len(arr) - 1\n",
    "while left < right:\n",
    "    s = arr[left] + arr[right]\n",
    "    "
   ]
  },
  {
   "cell_type": "code",
   "execution_count": 166,
   "metadata": {},
   "outputs": [],
   "source": [
    "def threeSum(arr):\n",
    "    if len(arr) <= 2:\n",
    "        return []\n",
    "    arr.sort()\n",
    "    result = []\n",
    "    for i in range(len(arr)):\n",
    "        left = i+1 \n",
    "        right = len(arr) - 1\n",
    "        s = -arr[i]\n",
    "        while left < right:\n",
    "            current_s = arr[left] + arr[right]\n",
    "            cur_list = [arr[i], arr[left], arr[right]]\n",
    "            if s == current_s and cur_list not in result:\n",
    "                result.append(cur_list)\n",
    "            elif current_s > s:\n",
    "                right -= 1\n",
    "            else:\n",
    "                left +=1 \n",
    "    return result"
   ]
  },
  {
   "cell_type": "code",
   "execution_count": 167,
   "metadata": {},
   "outputs": [
    {
     "data": {
      "text/plain": [
       "[]"
      ]
     },
     "execution_count": 167,
     "metadata": {},
     "output_type": "execute_result"
    }
   ],
   "source": [
    "threeSum([0])"
   ]
  },
  {
   "cell_type": "code",
   "execution_count": 168,
   "metadata": {},
   "outputs": [
    {
     "data": {
      "text/plain": [
       "[[0, 0, 0]]"
      ]
     },
     "execution_count": 168,
     "metadata": {},
     "output_type": "execute_result"
    }
   ],
   "source": [
    "threeSum([0,0,0])"
   ]
  },
  {
   "cell_type": "code",
   "execution_count": 169,
   "metadata": {},
   "outputs": [
    {
     "data": {
      "text/plain": [
       "[]"
      ]
     },
     "execution_count": 169,
     "metadata": {},
     "output_type": "execute_result"
    }
   ],
   "source": [
    "threeSum([1,2,-2,-1])"
   ]
  },
  {
   "cell_type": "code",
   "execution_count": 170,
   "metadata": {},
   "outputs": [
    {
     "data": {
      "text/plain": [
       "[[-1, -1, 2], [-1, 0, 1]]"
      ]
     },
     "execution_count": 170,
     "metadata": {},
     "output_type": "execute_result"
    }
   ],
   "source": [
    "threeSum([-1,0,1,2,-1,-4])"
   ]
  },
  {
   "cell_type": "code",
   "execution_count": 171,
   "metadata": {},
   "outputs": [
    {
     "data": {
      "text/plain": [
       "[[-2, 0, 2], [-2, 1, 1]]"
      ]
     },
     "execution_count": 171,
     "metadata": {},
     "output_type": "execute_result"
    }
   ],
   "source": [
    "threeSum([-2,0,1,1,2])"
   ]
  },
  {
   "cell_type": "code",
   "execution_count": null,
   "metadata": {},
   "outputs": [],
   "source": [
    "threeSum([-1,0,1,2,3,4])"
   ]
  },
  {
   "cell_type": "code",
   "execution_count": null,
   "metadata": {},
   "outputs": [],
   "source": [
    "x = 120\n",
    "str_x = str(x)\n",
    "n = len(str_x)\n",
    "a = ''\n",
    "for i in range(n):\n",
    "#     a.append(str_x[i-1])\n",
    "    a = a + str_x[n-1-i]\n",
    "    if a[-1] =='-':\n",
    "        a = '-' + a.strip('-')\n",
    "print(int(a))\n",
    "\n",
    "#     print(str_x[n-i-1])\n",
    "\n"
   ]
  },
  {
   "cell_type": "code",
   "execution_count": 350,
   "metadata": {},
   "outputs": [],
   "source": [
    "d = {'I': 1, 'V':5, 'X': 10, 'L':50, 'C':100, 'D':500, 'M': 1000, \n",
    "     'IV': 4, 'IX':9, 'XL':40, 'XC':90, 'CD':400, 'CM':900}"
   ]
  },
  {
   "cell_type": "code",
   "execution_count": 351,
   "metadata": {},
   "outputs": [],
   "source": [
    "s =\"MCMXCIVL\""
   ]
  },
  {
   "cell_type": "code",
   "execution_count": 352,
   "metadata": {},
   "outputs": [
    {
     "data": {
      "text/plain": [
       "2044"
      ]
     },
     "execution_count": 352,
     "metadata": {},
     "output_type": "execute_result"
    }
   ],
   "source": [
    "total = 0\n",
    "i = 0\n",
    "while i < len(s):\n",
    "    if i < len(s) - 1 and s[i]+s[i+1] in d:\n",
    "        total += d[s[i]+s[i+1]]\n",
    "        i += 2\n",
    "    else:\n",
    "        total += d[s[i]]\n",
    "        i +=1\n",
    "total"
   ]
  },
  {
   "cell_type": "code",
   "execution_count": null,
   "metadata": {},
   "outputs": [],
   "source": []
  },
  {
   "cell_type": "code",
   "execution_count": 73,
   "metadata": {},
   "outputs": [
    {
     "data": {
      "text/plain": [
       "'fl'"
      ]
     },
     "execution_count": 73,
     "metadata": {},
     "output_type": "execute_result"
    }
   ],
   "source": [
    "strs = [\"fl\",\"flo\",\"dlow\", 'flown']\n",
    "min(strs, key = len)"
   ]
  },
  {
   "cell_type": "code",
   "execution_count": 74,
   "metadata": {},
   "outputs": [],
   "source": [
    "dic = {}\n",
    "def findString(strs):\n",
    "    result = []\n",
    "    for s in zip(*strs):\n",
    "        if len(set(s)) != 1:\n",
    "            break\n",
    "            result.append(s[0])\n",
    "    return \"\".join(result)"
   ]
  },
  {
   "cell_type": "code",
   "execution_count": 79,
   "metadata": {},
   "outputs": [
    {
     "name": "stdout",
     "output_type": "stream",
     "text": [
      "('f', 'f', 'd', 'f')\n",
      "('l', 'l', 'l', 'l')\n"
     ]
    }
   ],
   "source": [
    "res =''\n",
    "for s in zip(*strs):\n",
    "    print(s)\n",
    "#     if len(set(s)) != 1: \n",
    "#         print(set(s))"
   ]
  },
  {
   "cell_type": "code",
   "execution_count": 144,
   "metadata": {},
   "outputs": [],
   "source": [
    "def findPrefix(strs):\n",
    "    maxStr = max(strs, key =len)\n",
    "    minStr = min(strs, key = len)\n",
    "    maxLen = len(maxStr)\n",
    "    minLen = len(minStr)\n",
    "    for word in strs:\n",
    "        for i in range(minLen):\n",
    "            if word[i] != minStr[i]:\n",
    "                return word[:i] \n",
    "    return minStr"
   ]
  },
  {
   "cell_type": "code",
   "execution_count": 152,
   "metadata": {},
   "outputs": [],
   "source": [
    "a = [1,2,1,4,5]"
   ]
  },
  {
   "cell_type": "code",
   "execution_count": 153,
   "metadata": {},
   "outputs": [
    {
     "name": "stdout",
     "output_type": "stream",
     "text": [
      "[2, 4, 5]\n"
     ]
    }
   ],
   "source": [
    "val = 1\n",
    "for ele in a:\n",
    "    if ele == val:\n",
    "        a.remove(val)\n",
    "print(a)"
   ]
  },
  {
   "cell_type": "code",
   "execution_count": 164,
   "metadata": {},
   "outputs": [],
   "source": [
    "nums = [1,2,4,5]\n",
    "def findnumber(nums):\n",
    "    target = 3\n",
    "    if target in nums:\n",
    "        return nums.index(target)\n",
    "    else:\n",
    "        nums.append(target)\n",
    "        nums.sort()\n",
    "        return nums.index(target)"
   ]
  },
  {
   "cell_type": "code",
   "execution_count": 165,
   "metadata": {},
   "outputs": [
    {
     "data": {
      "text/plain": [
       "2"
      ]
     },
     "execution_count": 165,
     "metadata": {},
     "output_type": "execute_result"
    }
   ],
   "source": [
    "findnumber(nums)"
   ]
  },
  {
   "cell_type": "code",
   "execution_count": 218,
   "metadata": {},
   "outputs": [
    {
     "name": "stdout",
     "output_type": "stream",
     "text": [
      "7\n"
     ]
    }
   ],
   "source": [
    "strs = 'abcabcd'\n",
    "print(len(strs))"
   ]
  },
  {
   "cell_type": "code",
   "execution_count": 222,
   "metadata": {},
   "outputs": [
    {
     "name": "stdout",
     "output_type": "stream",
     "text": [
      "10\n"
     ]
    }
   ],
   "source": [
    "new_strs = ''\n",
    "s = 0\n",
    "for i in range(len(strs)):    \n",
    "    prefix = strs[:i]\n",
    "    suffix = strs[i:]\n",
    "    if len(prefix) == 0:\n",
    "        s += len(suffix)\n",
    "    elif prefix[:len(strs)-i] == suffix[:i]:\n",
    "        s += len(prefix)     \n",
    "print(s)"
   ]
  },
  {
   "cell_type": "code",
   "execution_count": 215,
   "metadata": {},
   "outputs": [
    {
     "data": {
      "text/plain": [
       "'abcabcd'"
      ]
     },
     "execution_count": 215,
     "metadata": {},
     "output_type": "execute_result"
    }
   ],
   "source": [
    "strs[:100] "
   ]
  },
  {
   "cell_type": "code",
   "execution_count": 181,
   "metadata": {},
   "outputs": [
    {
     "data": {
      "text/plain": [
       "'abcabcd'"
      ]
     },
     "execution_count": 181,
     "metadata": {},
     "output_type": "execute_result"
    }
   ],
   "source": [
    "strs"
   ]
  },
  {
   "cell_type": "code",
   "execution_count": 331,
   "metadata": {},
   "outputs": [],
   "source": [
    "m = [\n",
    "  [3, 0, 1, 4, 2],\n",
    "  [5, 6, 3, 2, 1],\n",
    "  [1, 2, 0, 1, 5],\n",
    "  [4, 1, 0, 1, 7],\n",
    "  [1, 0, 3, 0, 5]\n",
    "]\n",
    "\n",
    "\n",
    "# sumRegion(2, 1, 4, 3) -> 8"
   ]
  },
  {
   "cell_type": "code",
   "execution_count": 332,
   "metadata": {},
   "outputs": [],
   "source": [
    "left = (2, 1) ## \n",
    "right = (4, 3)"
   ]
  },
  {
   "cell_type": "code",
   "execution_count": 333,
   "metadata": {},
   "outputs": [],
   "source": [
    "## list index start with cols first\n",
    "cols_len = len(n[:][0])\n",
    "rows_len = len(n[0][:])"
   ]
  },
  {
   "cell_type": "code",
   "execution_count": 334,
   "metadata": {},
   "outputs": [],
   "source": [
    "sub_m = []\n",
    "s = 0\n",
    "for i in range(left[0], right[0]+1):\n",
    "    sub_m.append(m[i][left[1]:right[1]+1])\n",
    "    s += sum(m[i][left[1]:right[1]+1])"
   ]
  },
  {
   "cell_type": "code",
   "execution_count": 335,
   "metadata": {},
   "outputs": [
    {
     "data": {
      "text/plain": [
       "[[2, 0, 1], [1, 0, 1], [0, 3, 0]]"
      ]
     },
     "execution_count": 335,
     "metadata": {},
     "output_type": "execute_result"
    }
   ],
   "source": [
    "sub_m"
   ]
  },
  {
   "cell_type": "code",
   "execution_count": 336,
   "metadata": {},
   "outputs": [
    {
     "data": {
      "text/plain": [
       "8"
      ]
     },
     "execution_count": 336,
     "metadata": {},
     "output_type": "execute_result"
    }
   ],
   "source": [
    "s"
   ]
  },
  {
   "cell_type": "code",
   "execution_count": 430,
   "metadata": {},
   "outputs": [
    {
     "data": {
      "text/plain": [
       "115"
      ]
     },
     "execution_count": 430,
     "metadata": {},
     "output_type": "execute_result"
    }
   ],
   "source": [
    "def RomanToInteger(s): #This function convert roman numeral to integers \n",
    "    d = {'I': 1, 'V':5, 'X': 10, 'L':50, 'C':100, 'D':500, 'M': 1000, \n",
    "     'IV': 4, 'IX':9, 'XL':40, 'XC':90, 'CD':400, 'CM':900} # hash table for conversion\n",
    "    n = 0\n",
    "    i = 0\n",
    "    while i < len(s):\n",
    "        if i < len(s) - 1 and s[i]+s[i+1] in d:\n",
    "            n += d[s[i]+s[i+1]]\n",
    "            i += 2\n",
    "        else:\n",
    "            n += d[s[i]]\n",
    "            i +=1\n",
    "    return int(n)\n",
    "RomanToInteger('VVVXCX')"
   ]
  },
  {
   "cell_type": "code",
   "execution_count": 452,
   "metadata": {},
   "outputs": [
    {
     "name": "stdout",
     "output_type": "stream",
     "text": [
      "['Adams XXX', 'Anuar III', 'Louis VIII', 'Louis IX', 'Maria III', 'Oscar IV', 'Oscar V']\n"
     ]
    }
   ],
   "source": [
    "def foo(x):\n",
    "    n, r = x.split()\n",
    "    return n, RomanToInteger(r)\n",
    "names = ['Louis IX', 'Louis VIII', 'Maria III', 'Oscar IV', 'Adams XXX', 'Anuar III', 'Maria III', 'Oscar V']\n",
    "names = sorted(set(names), key=foo) ## set makes sure to return unique name only\n",
    "print(names)"
   ]
  },
  {
   "cell_type": "code",
   "execution_count": null,
   "metadata": {},
   "outputs": [],
   "source": []
  }
 ],
 "metadata": {
  "kernelspec": {
   "display_name": "Python 3",
   "language": "python",
   "name": "python3"
  },
  "language_info": {
   "codemirror_mode": {
    "name": "ipython",
    "version": 3
   },
   "file_extension": ".py",
   "mimetype": "text/x-python",
   "name": "python",
   "nbconvert_exporter": "python",
   "pygments_lexer": "ipython3",
   "version": "3.7.6"
  }
 },
 "nbformat": 4,
 "nbformat_minor": 4
}
