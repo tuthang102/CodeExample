{
 "cells": [
  {
   "cell_type": "code",
   "execution_count": 1,
   "metadata": {},
   "outputs": [],
   "source": [
    "import numpy as np\n",
    "from matplotlib.pylab import *\n",
    "import matplotlib.animation as animation"
   ]
  },
  {
   "cell_type": "code",
   "execution_count": 2,
   "metadata": {},
   "outputs": [],
   "source": [
    "L = 10\n",
    "N = L**2\n",
    "NT = 10\n",
    "Nsweeps = 1000\n",
    "Nwarmup = 100\n",
    "Nbins = 20\n",
    "Temp = np.linspace(0.2,5,NT)"
   ]
  },
  {
   "cell_type": "code",
   "execution_count": 3,
   "metadata": {},
   "outputs": [],
   "source": [
    "J = 1.0\n",
    "B = 0.0"
   ]
  },
  {
   "cell_type": "code",
   "execution_count": 4,
   "metadata": {},
   "outputs": [
    {
     "name": "stdout",
     "output_type": "stream",
     "text": [
      "[[ 1 -1 -1  1  1 -1 -1 -1  1  1]\n",
      " [ 1 -1 -1  1  1 -1  1  1 -1 -1]\n",
      " [-1  1  1 -1  1  1  1 -1 -1  1]\n",
      " [-1 -1 -1 -1  1  1  1 -1  1  1]\n",
      " [-1  1 -1  1  1  1  1 -1 -1 -1]\n",
      " [-1 -1  1 -1 -1  1  1 -1 -1 -1]\n",
      " [-1  1  1  1  1  1 -1 -1  1 -1]\n",
      " [ 1 -1 -1 -1 -1 -1 -1 -1 -1  1]\n",
      " [ 1  1 -1 -1  1  1 -1 -1 -1 -1]\n",
      " [-1 -1 -1 -1  1  1  1  1 -1  1]]\n",
      "(10, 10)\n"
     ]
    }
   ],
   "source": [
    "S = 2*np.random.randint(2,size=N)-1\n",
    "S = S.reshape(L,L)\n",
    "E = 0.0\n",
    "M = 0\n",
    "for i in range(L):\n",
    "    for j in range(L):\n",
    "        E -= J*S[i,j]*(S[(i+1)%L,j]+S[i,(j+1)%L])\n",
    "        E -= B*S[i,j]\n",
    "        M += S[i,j]\n",
    "print(S)\n",
    "print(np.shape(S))"
   ]
  },
  {
   "cell_type": "code",
   "execution_count": 5,
   "metadata": {},
   "outputs": [],
   "source": [
    "E_avg = np.zeros(NT)\n",
    "E2_avg = np.zeros(NT)\n",
    "M_avg = np.zeros(NT)\n",
    "M2_avg = np.zeros(NT)\n",
    "X = np.zeros([Nsweeps, N], int)\n",
    "\n",
    "# I start from high T and work my way to lower T\n",
    "k = 0\n",
    "for iT in range(NT):\n",
    "    T = Temp[iT]\n",
    "    \n",
    "    # These are the warmup sweeps\n",
    "    for iswp in range(Nwarmup):\n",
    "        for isite in range(N):\n",
    "            i = np.random.randint(L)\n",
    "            j = np.random.randint(L)\n",
    "            dE = 2*J*S[i,j]*(S[(i+1)%L,j]+S[i,(j+1)%L]+S[(i-1)%L,j]+S[i,(j-1)%L])\n",
    "            r = np.random.random()\n",
    "            if r < np.exp(-dE/T):\n",
    "                S[i,j] *= -1\n",
    "                E += dE\n",
    "                M += 2*S[i,j]\n",
    "                \n",
    "    # Important to zero bin averages for a new T\n",
    "    E_bin = np.zeros(Nbins)\n",
    "    M_bin = np.zeros(Nbins)\n",
    "    \n",
    "    # This is the measurement loop\n",
    "    # Every bin holds the average of Nsweeps/Nbins consequetive sweeps\n",
    "    for ib in range(Nbins):\n",
    "        for iswp in range(Nsweeps//Nbins):\n",
    "            for isite in range(N):\n",
    "                i = np.random.randint(L)\n",
    "                j = np.random.randint(L)\n",
    "                dE = 2*J*S[i,j]*(S[(i+1)%L,j]+S[i,(j+1)%L]+S[(i-1)%L,j]+S[i,(j-1)%L])\n",
    "                r = np.random.random()\n",
    "                if r < np.exp(-dE/T):\n",
    "                    S[i,j] *= -1\n",
    "                    \n",
    "                    # Keeping track of the energy and magnetization\n",
    "                    E += dE\n",
    "                    M += 2*S[i,j]\n",
    "                    \n",
    "            E_bin[ib] += E\n",
    "            M_bin[ib] += M\n",
    "            \n",
    "            # Perhaps not the best implementation, but here is\n",
    "            # where I keep one out of every 10 sweeps (100 configurations\n",
    "            # per temperature)\n",
    "            if iswp % NT == 0:\n",
    "                X[k] = S.reshape(N)\n",
    "                k += 1\n",
    "        # Averaging the bin averages    \n",
    "        E_avg[iT]  +=  E_bin[ib]/Nsweeps*Nbins\n",
    "        E2_avg[iT] += (E_bin[ib]/Nsweeps*Nbins)**2\n",
    "        M_avg[iT]  +=  M_bin[ib]/Nsweeps*Nbins\n",
    "        M2_avg[iT] += (M_bin[ib]/Nsweeps*Nbins)**2\n",
    "\n",
    "    E_avg[iT]  /= Nbins\n",
    "    E2_avg[iT] /= Nbins\n",
    "    M_avg[iT]  /= Nbins\n",
    "    M2_avg[iT] /= Nbins\n",
    "\n",
    "    # Standard errors for Gaussian distributed data\n",
    "    errorE = np.sqrt(E2_avg[iT]-E_avg[iT]**2)/np.sqrt(Nbins-1)\n",
    "    errorM = np.sqrt(M2_avg[iT]-M_avg[iT]**2)/np.sqrt(Nbins-1)"
   ]
  },
  {
   "cell_type": "code",
   "execution_count": 6,
   "metadata": {},
   "outputs": [
    {
     "data": {
      "text/plain": [
       "<matplotlib.collections.PathCollection at 0x1149d2fd0>"
      ]
     },
     "execution_count": 6,
     "metadata": {},
     "output_type": "execute_result"
    },
    {
     "data": {
      "image/png": "[encoded data removed]",
      "text/plain": [
       "<Figure size 720x360 with 1 Axes>"
      ]
     },
     "metadata": {
      "needs_background": "light"
     },
     "output_type": "display_data"
    },
    {
     "data": {
      "image/png": "[encoded data removed]",
      "text/plain": [
       "<Figure size 720x360 with 1 Axes>"
      ]
     },
     "metadata": {
      "needs_background": "light"
     },
     "output_type": "display_data"
    }
   ],
   "source": [
    "plt.figure(figsize=[10,5])\n",
    "plt.scatter(Temp, E_avg)\n",
    "plt.ylabel('Energy')\n",
    "plt.figure(figsize=[10,5])\n",
    "plt.ylabel('Magnetization')\n",
    "plt.scatter(Temp, M_avg)"
   ]
  },
  {
   "cell_type": "code",
   "execution_count": 11,
   "metadata": {},
   "outputs": [
    {
     "data": {
      "image/png": "[encoded data removed]",
      "text/plain": [
       "<Figure size 432x288 with 1 Axes>"
      ]
     },
     "metadata": {},
     "output_type": "display_data"
    },
    {
     "data": {
      "image/png": "[encoded data removed]",
      "text/plain": [
       "<Figure size 432x288 with 1 Axes>"
      ]
     },
     "metadata": {},
     "output_type": "display_data"
    }
   ],
   "source": [
    "errorbar(Temp,np.abs(M_avg)/N,yerr=errorM/N)\n",
    "xlabel('$T$', fontsize=25)\n",
    "ylabel('$<m>$', fontsize=25)\n",
    "title('What is wrong with my error bars?' , fontsize=20, color='r')\n",
    "show()\n",
    "\n",
    "errorbar(Temp,E_avg/N,yerr=errorE/N)\n",
    "xlabel('$T$', fontsize=25)\n",
    "ylabel('$<E>$', fontsize=25)\n",
    "show()"
   ]
  },
  {
   "cell_type": "code",
   "execution_count": 10,
   "metadata": {},
   "outputs": [
    {
     "data": {
      "image/png": "[encoded data removed]",
      "text/plain": [
       "<Figure size 432x288 with 1 Axes>"
      ]
     },
     "metadata": {},
     "output_type": "display_data"
    }
   ],
   "source": [
    "# These two boxes are for the animation, using one out of every 10\n",
    "# configurations (total of 100 frames)\n",
    "fig1 = figure()\n",
    "ax = fig1.add_subplot(111)\n",
    "anim = []\n",
    "for i in range(0,Nsweeps,10):\n",
    "    anim.append([imshow(X[i].reshape(L,L), interpolation=None)])"
   ]
  },
  {
   "cell_type": "code",
   "execution_count": 9,
   "metadata": {},
   "outputs": [],
   "source": [
    "im = animation.ArtistAnimation(fig1, anim) #, interval=200, repeat_delay=300,blit=True)\n",
    "\n",
    "plt.rcParams['animation.html'] = 'html5'\n",
    "# For some, the following line works instead:\n",
    "#plt.rcParams['animation.html'] = 'jshtml'"
   ]
  },
  {
   "cell_type": "code",
   "execution_count": null,
   "metadata": {
    "collapsed": true
   },
   "outputs": [],
   "source": []
  }
 ],
 "metadata": {
  "kernelspec": {
   "display_name": "Python 3",
   "language": "python",
   "name": "python3"
  },
  "language_info": {
   "codemirror_mode": {
    "name": "ipython",
    "version": 3
   },
   "file_extension": ".py",
   "mimetype": "text/x-python",
   "name": "python",
   "nbconvert_exporter": "python",
   "pygments_lexer": "ipython3",
   "version": "3.7.6"
  }
 },
 "nbformat": 4,
 "nbformat_minor": 2
}
